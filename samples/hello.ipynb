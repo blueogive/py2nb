{
 "cells": [
  {
   "cell_type": "code",
   "execution_count": 31,
   "metadata": {
    "ExecuteTime": {
     "end_time": "2017-08-26T15:07:00.761165Z",
     "start_time": "2017-08-26T15:07:00.756492Z"
    }
   },
   "outputs": [],
   "source": [
    "#!/usr/bin/env python"
   ]
  },
  {
   "cell_type": "markdown",
   "metadata": {},
   "source": [
    "# Sample Script/Notebook"
   ]
  },
  {
   "cell_type": "code",
   "execution_count": 32,
   "metadata": {
    "ExecuteTime": {
     "end_time": "2017-08-26T15:07:00.813153Z",
     "start_time": "2017-08-26T15:07:00.792484Z"
    }
   },
   "outputs": [],
   "source": [
    "# from __future__ imports must come at the beginning of the file\n",
    "from __future__ import absolute_import, print_function, division"
   ]
  },
  {
   "cell_type": "markdown",
   "metadata": {},
   "source": [
    "Triple-quoted comments like this one are converted to\n",
    "[Markdown](https://daringfireball.net/projects/markdown/) cells,\n",
    "which support basic typography when the _Jupyter notebook_ is rendered. You\n",
    "can create lists:\n",
    "1. like\n",
    "1. this\n",
    "1. one."
   ]
  },
  {
   "cell_type": "code",
   "execution_count": 33,
   "metadata": {
    "ExecuteTime": {
     "end_time": "2017-08-26T15:07:00.846990Z",
     "start_time": "2017-08-26T15:07:00.825481Z"
    }
   },
   "outputs": [],
   "source": [
    "import os"
   ]
  },
  {
   "cell_type": "markdown",
   "metadata": {},
   "source": [
    "## A `Hello, World` Function"
   ]
  },
  {
   "cell_type": "markdown",
   "metadata": {},
   "source": [
    "This is a *hello, world* function."
   ]
  },
  {
   "cell_type": "code",
   "execution_count": 34,
   "metadata": {
    "ExecuteTime": {
     "end_time": "2017-08-26T15:07:00.886138Z",
     "start_time": "2017-08-26T15:07:00.879484Z"
    }
   },
   "outputs": [],
   "source": [
    "def hello(who='World'):\n",
    "    \"\"\" This is a docstring.\n",
    "    \"\"\"\n",
    "    return \"Hello, \" + who"
   ]
  },
  {
   "cell_type": "markdown",
   "metadata": {},
   "source": [
    "I have added some helper functions to round out the conventional structure of\n",
    "a Python script. This example is trivial, making the helper functions seem\n",
    "pedantic."
   ]
  },
  {
   "cell_type": "code",
   "execution_count": 35,
   "metadata": {
    "ExecuteTime": {
     "end_time": "2017-08-26T15:07:00.925557Z",
     "start_time": "2017-08-26T15:07:00.904911Z"
    }
   },
   "outputs": [],
   "source": [
    "def main():\n",
    "    return hello()"
   ]
  },
  {
   "cell_type": "code",
   "execution_count": 36,
   "metadata": {
    "ExecuteTime": {
     "end_time": "2017-08-26T15:07:00.970471Z",
     "start_time": "2017-08-26T15:07:00.928730Z"
    }
   },
   "outputs": [
    {
     "name": "stdout",
     "output_type": "stream",
     "text": [
      "Hello, World\n"
     ]
    }
   ],
   "source": [
    "if __name__ == '__main__':\n",
    "    print(main())"
   ]
  },
  {
   "cell_type": "markdown",
   "metadata": {
    "variables": {
     "hello('Jim')": "Hello, Jim"
    }
   },
   "source": [
    "With the [Python\n",
    "Markdown](http://jupyter-contrib-nbextensions.readthedocs.io/en/latest/nbextensions/python-markdown/readme.html)\n",
    "extension enabled, the combination of VSCode, the Jupyter extension for Code,\n",
    "and the Jupyter Notebook stack amount to a literate programming\n",
    "environment for Python. For example, you can write expressions like\n",
    "`hello('Jim')` in Markdown cells and the notebook will resolve them within the\n",
    "Python REPL: {{hello('Jim')}}.\n",
    "\n",
    "Using the Python Markdown extension in this manner comes with two gotchas:\n",
    "1. If you want the Python expressions within your Markdown cells to be resolved\n",
    "in, say, the HTML version of your notebook, you must execute and save the\n",
    "notebook file (`*.ipynb`) before using `nbconvert` to transform the notebook.\n",
    "1. You must *trust* the notebook (i.e., by clicking `File` -> `Trust Notebook`\n",
    "within the notebook interface) before the Python Markdown extension will be\n",
    "able to resolve Python expressions within your Markdown cells."
   ]
  }
 ],
 "metadata": {
  "kernelspec": {
   "display_name": "Python 3",
   "language": "python",
   "name": "python3"
  },
  "language_info": {
   "codemirror_mode": {
    "name": "ipython",
    "version": 3
   },
   "file_extension": ".py",
   "mimetype": "text/x-python",
   "name": "python",
   "nbconvert_exporter": "python",
   "pygments_lexer": "ipython3",
   "version": "3.5.4"
  },
  "toc": {
   "colors": {
    "hover_highlight": "#DAA520",
    "navigate_num": "#000000",
    "navigate_text": "#333333",
    "running_highlight": "#FF0000",
    "selected_highlight": "#FFD700",
    "sidebar_border": "#EEEEEE",
    "wrapper_background": "#FFFFFF"
   },
   "moveMenuLeft": true,
   "nav_menu": {
    "height": "66px",
    "width": "160px"
   },
   "navigate_menu": true,
   "number_sections": true,
   "sideBar": true,
   "threshold": 4,
   "toc_cell": false,
   "toc_section_display": "block",
   "toc_window_display": false,
   "widenNotebook": false
  }
 },
 "nbformat": 4,
 "nbformat_minor": 2
}
